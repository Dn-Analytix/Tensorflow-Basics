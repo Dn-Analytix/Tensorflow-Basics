{
  "nbformat": 4,
  "nbformat_minor": 0,
  "metadata": {
    "colab": {
      "name": "Tf.ipynb",
      "provenance": [],
      "collapsed_sections": []
    },
    "kernelspec": {
      "name": "python3",
      "display_name": "Python 3"
    }
  },
  "cells": [
    {
      "cell_type": "code",
      "metadata": {
        "colab": {
          "base_uri": "https://localhost:8080/"
        },
        "id": "BFuOegQ-PEUd",
        "outputId": "d6385ddd-77f3-4bc7-fa60-b7d4ec7bb67a"
      },
      "source": [
        "pip install -- tensorflow==1.3"
      ],
      "execution_count": 1,
      "outputs": [
        {
          "output_type": "stream",
          "text": [
            "Collecting tensorflow==1.3\n",
            "\u001b[?25l  Downloading https://files.pythonhosted.org/packages/7c/9f/57e1404fc9345759e4a732c4ab48ab4dd78fd1e60ee1270442b8850fa75f/tensorflow-1.3.0-cp36-cp36m-manylinux1_x86_64.whl (43.5MB)\n",
            "\u001b[K     |████████████████████████████████| 43.6MB 107kB/s \n",
            "\u001b[?25hRequirement already satisfied: numpy>=1.11.0 in /usr/local/lib/python3.6/dist-packages (from tensorflow==1.3) (1.19.5)\n",
            "Collecting tensorflow-tensorboard<0.2.0,>=0.1.0\n",
            "\u001b[?25l  Downloading https://files.pythonhosted.org/packages/93/31/bb4111c3141d22bd7b2b553a26aa0c1863c86cb723919e5bd7847b3de4fc/tensorflow_tensorboard-0.1.8-py3-none-any.whl (1.6MB)\n",
            "\u001b[K     |████████████████████████████████| 1.6MB 44.9MB/s \n",
            "\u001b[?25hRequirement already satisfied: protobuf>=3.3.0 in /usr/local/lib/python3.6/dist-packages (from tensorflow==1.3) (3.12.4)\n",
            "Requirement already satisfied: wheel>=0.26 in /usr/local/lib/python3.6/dist-packages (from tensorflow==1.3) (0.36.2)\n",
            "Requirement already satisfied: six>=1.10.0 in /usr/local/lib/python3.6/dist-packages (from tensorflow==1.3) (1.15.0)\n",
            "Collecting bleach==1.5.0\n",
            "  Downloading https://files.pythonhosted.org/packages/33/70/86c5fec937ea4964184d4d6c4f0b9551564f821e1c3575907639036d9b90/bleach-1.5.0-py2.py3-none-any.whl\n",
            "Collecting html5lib==0.9999999\n",
            "\u001b[?25l  Downloading https://files.pythonhosted.org/packages/ae/ae/bcb60402c60932b32dfaf19bb53870b29eda2cd17551ba5639219fb5ebf9/html5lib-0.9999999.tar.gz (889kB)\n",
            "\u001b[K     |████████████████████████████████| 890kB 40.1MB/s \n",
            "\u001b[?25hRequirement already satisfied: werkzeug>=0.11.10 in /usr/local/lib/python3.6/dist-packages (from tensorflow-tensorboard<0.2.0,>=0.1.0->tensorflow==1.3) (1.0.1)\n",
            "Requirement already satisfied: markdown>=2.6.8 in /usr/local/lib/python3.6/dist-packages (from tensorflow-tensorboard<0.2.0,>=0.1.0->tensorflow==1.3) (3.3.3)\n",
            "Requirement already satisfied: setuptools in /usr/local/lib/python3.6/dist-packages (from protobuf>=3.3.0->tensorflow==1.3) (53.0.0)\n",
            "Requirement already satisfied: importlib-metadata; python_version < \"3.8\" in /usr/local/lib/python3.6/dist-packages (from markdown>=2.6.8->tensorflow-tensorboard<0.2.0,>=0.1.0->tensorflow==1.3) (3.4.0)\n",
            "Requirement already satisfied: zipp>=0.5 in /usr/local/lib/python3.6/dist-packages (from importlib-metadata; python_version < \"3.8\"->markdown>=2.6.8->tensorflow-tensorboard<0.2.0,>=0.1.0->tensorflow==1.3) (3.4.0)\n",
            "Requirement already satisfied: typing-extensions>=3.6.4; python_version < \"3.8\" in /usr/local/lib/python3.6/dist-packages (from importlib-metadata; python_version < \"3.8\"->markdown>=2.6.8->tensorflow-tensorboard<0.2.0,>=0.1.0->tensorflow==1.3) (3.7.4.3)\n",
            "Building wheels for collected packages: html5lib\n",
            "  Building wheel for html5lib (setup.py) ... \u001b[?25l\u001b[?25hdone\n",
            "  Created wheel for html5lib: filename=html5lib-0.9999999-cp36-none-any.whl size=107222 sha256=c1cc77736aa73ac6b9029414bafd6900ce66be45c5cf623aa7d9ee6d8193ffa2\n",
            "  Stored in directory: /root/.cache/pip/wheels/50/ae/f9/d2b189788efcf61d1ee0e36045476735c838898eef1cad6e29\n",
            "Successfully built html5lib\n",
            "Installing collected packages: html5lib, bleach, tensorflow-tensorboard, tensorflow\n",
            "  Found existing installation: html5lib 1.0.1\n",
            "    Uninstalling html5lib-1.0.1:\n",
            "      Successfully uninstalled html5lib-1.0.1\n",
            "  Found existing installation: bleach 3.3.0\n",
            "    Uninstalling bleach-3.3.0:\n",
            "      Successfully uninstalled bleach-3.3.0\n",
            "  Found existing installation: tensorflow 2.4.1\n",
            "    Uninstalling tensorflow-2.4.1:\n",
            "      Successfully uninstalled tensorflow-2.4.1\n",
            "Successfully installed bleach-1.5.0 html5lib-0.9999999 tensorflow-1.3.0 tensorflow-tensorboard-0.1.8\n"
          ],
          "name": "stdout"
        }
      ]
    },
    {
      "cell_type": "code",
      "metadata": {
        "colab": {
          "base_uri": "https://localhost:8080/"
        },
        "id": "XFGYoYCXPfZx",
        "outputId": "2313fcb0-a22a-4d55-aad9-143dd8b7ddbd"
      },
      "source": [
        "import tensorflow as tf\r\n",
        "print(\"Tensorflow version: {}\".format(tf.__version__))"
      ],
      "execution_count": 3,
      "outputs": [
        {
          "output_type": "stream",
          "text": [
            "/usr/local/lib/python3.6/dist-packages/tensorflow/python/framework/dtypes.py:458: FutureWarning: Passing (type, 1) or '1type' as a synonym of type is deprecated; in a future version of numpy, it will be understood as (type, (1,)) / '(1,)type'.\n",
            "  _np_qint8 = np.dtype([(\"qint8\", np.int8, 1)])\n",
            "/usr/local/lib/python3.6/dist-packages/tensorflow/python/framework/dtypes.py:459: FutureWarning: Passing (type, 1) or '1type' as a synonym of type is deprecated; in a future version of numpy, it will be understood as (type, (1,)) / '(1,)type'.\n",
            "  _np_quint8 = np.dtype([(\"quint8\", np.uint8, 1)])\n",
            "/usr/local/lib/python3.6/dist-packages/tensorflow/python/framework/dtypes.py:460: FutureWarning: Passing (type, 1) or '1type' as a synonym of type is deprecated; in a future version of numpy, it will be understood as (type, (1,)) / '(1,)type'.\n",
            "  _np_qint16 = np.dtype([(\"qint16\", np.int16, 1)])\n",
            "/usr/local/lib/python3.6/dist-packages/tensorflow/python/framework/dtypes.py:461: FutureWarning: Passing (type, 1) or '1type' as a synonym of type is deprecated; in a future version of numpy, it will be understood as (type, (1,)) / '(1,)type'.\n",
            "  _np_quint16 = np.dtype([(\"quint16\", np.uint16, 1)])\n",
            "/usr/local/lib/python3.6/dist-packages/tensorflow/python/framework/dtypes.py:462: FutureWarning: Passing (type, 1) or '1type' as a synonym of type is deprecated; in a future version of numpy, it will be understood as (type, (1,)) / '(1,)type'.\n",
            "  _np_qint32 = np.dtype([(\"qint32\", np.int32, 1)])\n",
            "/usr/local/lib/python3.6/dist-packages/tensorflow/python/framework/dtypes.py:465: FutureWarning: Passing (type, 1) or '1type' as a synonym of type is deprecated; in a future version of numpy, it will be understood as (type, (1,)) / '(1,)type'.\n",
            "  np_resource = np.dtype([(\"resource\", np.ubyte, 1)])\n"
          ],
          "name": "stderr"
        },
        {
          "output_type": "stream",
          "text": [
            "Tensorflow version: 1.3.0\n"
          ],
          "name": "stdout"
        }
      ]
    },
    {
      "cell_type": "code",
      "metadata": {
        "id": "0sT_M0FIPvsq"
      },
      "source": [
        "first_string = tf.constant('Analytics')\r\n",
        "second_string = tf.constant(' Vidhya')"
      ],
      "execution_count": 4,
      "outputs": []
    },
    {
      "cell_type": "code",
      "metadata": {
        "colab": {
          "base_uri": "https://localhost:8080/"
        },
        "id": "rknYuhsoP6TF",
        "outputId": "77c4e5c5-0ce0-4c0a-fa6b-fe2f41aeef35"
      },
      "source": [
        "combined_string = (first_string + second_string)\r\n",
        "print (type(combined_string))\r\n",
        "print (combined_string)"
      ],
      "execution_count": 5,
      "outputs": [
        {
          "output_type": "stream",
          "text": [
            "<class 'tensorflow.python.framework.ops.Tensor'>\n",
            "Tensor(\"add:0\", shape=(), dtype=string)\n"
          ],
          "name": "stdout"
        }
      ]
    },
    {
      "cell_type": "code",
      "metadata": {
        "colab": {
          "base_uri": "https://localhost:8080/"
        },
        "id": "qd-33pI3P843",
        "outputId": "27390ae3-b8fc-42bb-c4fd-afe8d4b49713"
      },
      "source": [
        "with tf.Session() as sess:\r\n",
        "    result = sess.run(combined_string)\r\n",
        "    print (result)"
      ],
      "execution_count": 6,
      "outputs": [
        {
          "output_type": "stream",
          "text": [
            "b'Analytics Vidhya'\n"
          ],
          "name": "stdout"
        }
      ]
    },
    {
      "cell_type": "code",
      "metadata": {
        "colab": {
          "base_uri": "https://localhost:8080/"
        },
        "id": "AerGcf4wQBYK",
        "outputId": "cb452ff6-7b31-4001-8ec9-de4260f65bde"
      },
      "source": [
        "Matrix_1 = tf.constant([ [1,3],\r\n",
        "                          [2,6]])\r\n",
        "Matrix_2 = tf.constant([ [13,26],\r\n",
        "                          [23,52]])\r\n",
        "print(\"The Shape of Matrix 1 is {} and of Matrix 2 is {}\".format(Matrix_1.get_shape(), Matrix_2.get_shape()))\r\n",
        "MatMul = tf.matmul(Matrix_1, Matrix_2)\r\n",
        "with tf.Session() as sess:\r\n",
        "    result = sess.run(MatMul)\r\n",
        "    \r\n",
        "print(\">> Output\")\r\n",
        "print(result)"
      ],
      "execution_count": 7,
      "outputs": [
        {
          "output_type": "stream",
          "text": [
            "The Shape of Matrix 1 is (2, 2) and of Matrix 2 is (2, 2)\n",
            ">> Output\n",
            "[[ 82 182]\n",
            " [164 364]]\n"
          ],
          "name": "stdout"
        }
      ]
    },
    {
      "cell_type": "code",
      "metadata": {
        "colab": {
          "base_uri": "https://localhost:8080/"
        },
        "id": "6HYYIAspQQVa",
        "outputId": "9f7c4563-c30f-4ebc-e4b5-7bfd0535359a"
      },
      "source": [
        "first_var = tf.random_uniform((4,4),0,1)\r\n",
        "second_var = tf.ones((4,4))\r\n",
        "print(first_var)"
      ],
      "execution_count": 8,
      "outputs": [
        {
          "output_type": "stream",
          "text": [
            "Tensor(\"random_uniform:0\", shape=(4, 4), dtype=float32)\n"
          ],
          "name": "stdout"
        }
      ]
    },
    {
      "cell_type": "code",
      "metadata": {
        "id": "v0d_XYriQ3b4"
      },
      "source": [
        "init = tf.global_variables_initializer()"
      ],
      "execution_count": 9,
      "outputs": []
    },
    {
      "cell_type": "code",
      "metadata": {
        "colab": {
          "base_uri": "https://localhost:8080/"
        },
        "id": "IRmQ_MwlQ-QF",
        "outputId": "8dafd79b-7e75-4283-84b0-05991bff05e0"
      },
      "source": [
        "with tf.Session() as sess:\r\n",
        "    init.run()\r\n",
        "    print(first_var.eval())"
      ],
      "execution_count": 10,
      "outputs": [
        {
          "output_type": "stream",
          "text": [
            "[[5.1299751e-01 2.3410201e-02 9.2374325e-02 1.5795112e-02]\n",
            " [3.4688401e-01 2.0717525e-01 1.5978491e-01 2.3247933e-01]\n",
            " [5.7828426e-04 2.9692137e-01 4.3035603e-01 6.2532425e-01]\n",
            " [9.4943619e-01 3.2623255e-01 9.7878218e-02 8.0081749e-01]]\n"
          ],
          "name": "stdout"
        }
      ]
    },
    {
      "cell_type": "code",
      "metadata": {
        "id": "WGBbHaRORCLD"
      },
      "source": [
        "integer_placeholder = tf.placeholder(tf.int32)\r\n",
        "float_placeholder = tf.placeholder(tf.float64)"
      ],
      "execution_count": 11,
      "outputs": []
    },
    {
      "cell_type": "code",
      "metadata": {
        "id": "qF1czLX4RJct"
      },
      "source": [
        "train_data = tf.placeholder(tf.float32, shape=(None,5))"
      ],
      "execution_count": 12,
      "outputs": []
    },
    {
      "cell_type": "code",
      "metadata": {
        "id": "KXjbwrjIRTA0"
      },
      "source": [
        "test_data = tf.placeholder(tf.float32, shape=(None,5))"
      ],
      "execution_count": 13,
      "outputs": []
    },
    {
      "cell_type": "code",
      "metadata": {
        "id": "WbSEj7q_RWHd"
      },
      "source": [
        "import numpy as np\r\n",
        "np.random.seed(13)\r\n",
        "tf.set_random_seed(13)"
      ],
      "execution_count": 14,
      "outputs": []
    },
    {
      "cell_type": "code",
      "metadata": {
        "id": "0r7uK564RcQE"
      },
      "source": [
        "random_data = np.random.uniform(0,100,(5,5))\r\n",
        "random_weights = np.random.uniform(0,100,(5,1))"
      ],
      "execution_count": 15,
      "outputs": []
    },
    {
      "cell_type": "code",
      "metadata": {
        "id": "_-E8vl4uRpVc"
      },
      "source": [
        "a = tf.placeholder(tf.float32)\r\n",
        "b = tf.placeholder(tf.float32)\r\n",
        "add_operation = a + b \r\n",
        "multiply_operation = a * b "
      ],
      "execution_count": 16,
      "outputs": []
    },
    {
      "cell_type": "code",
      "metadata": {
        "colab": {
          "base_uri": "https://localhost:8080/"
        },
        "id": "SolaaHeWRxRd",
        "outputId": "95f9e0d5-6d04-4ca7-8979-43efc888b0a4"
      },
      "source": [
        "with tf.Session() as sess:\r\n",
        "    add_result = sess.run(add_operation,\r\n",
        "                          feed_dict= {a:random_data,\r\n",
        "                                      b:random_weights})\r\n",
        "    mult_result = sess.run(multiply_operation,\r\n",
        "                           feed_dict= {a:random_data,\r\n",
        "                                       b:random_weights})\r\n",
        "    print(add_result)\r\n",
        "    print('\\n')    \r\n",
        "    print(mult_result.round())"
      ],
      "execution_count": 17,
      "outputs": [
        {
          "output_type": "stream",
          "text": [
            "[[ 84.278694   30.262575   88.93631   103.083374  103.76856  ]\n",
            " [108.32782   123.887146  140.53555   127.144226  135.18472  ]\n",
            " [ 90.885     117.226295   93.2326    173.08743   124.66675  ]\n",
            " [ 68.85637    26.499567   35.629696    1.8128502  36.704952 ]\n",
            " [169.56714    96.447624  106.59686   166.43497    77.84809  ]]\n",
            "\n",
            "\n",
            "[[5.060e+02 1.550e+02 5.360e+02 6.290e+02 6.330e+02]\n",
            " [2.856e+03 3.836e+03 4.884e+03 4.041e+03 4.547e+03]\n",
            " [3.060e+02 2.608e+03 5.110e+02 7.489e+03 3.258e+03]\n",
            " [5.900e+01 2.200e+01 3.000e+01 1.000e+00 3.100e+01]\n",
            " [7.086e+03 1.627e+03 2.385e+03 6.852e+03 2.380e+02]]\n"
          ],
          "name": "stdout"
        }
      ]
    },
    {
      "cell_type": "code",
      "metadata": {
        "id": "8l3ledUuR1Cu"
      },
      "source": [
        "import pandas as pd\r\n",
        "import matplotlib.pyplot as plt\r\n",
        "%matplotlib inline"
      ],
      "execution_count": 45,
      "outputs": []
    },
    {
      "cell_type": "code",
      "metadata": {
        "colab": {
          "base_uri": "https://localhost:8080/",
          "height": 244
        },
        "id": "R2p7hS8MSQXP",
        "outputId": "55757ecd-291a-434a-c4fe-d2a1220f79a8"
      },
      "source": [
        "url = \"https://raw.githubusercontent.com/Dn-Analytix/Tensorflow-Basics/main/train.csv\"\r\n",
        "train = pd.read_csv(url)\r\n",
        "train.head()"
      ],
      "execution_count": 37,
      "outputs": [
        {
          "output_type": "execute_result",
          "data": {
            "text/html": [
              "<div>\n",
              "<style scoped>\n",
              "    .dataframe tbody tr th:only-of-type {\n",
              "        vertical-align: middle;\n",
              "    }\n",
              "\n",
              "    .dataframe tbody tr th {\n",
              "        vertical-align: top;\n",
              "    }\n",
              "\n",
              "    .dataframe thead th {\n",
              "        text-align: right;\n",
              "    }\n",
              "</style>\n",
              "<table border=\"1\" class=\"dataframe\">\n",
              "  <thead>\n",
              "    <tr style=\"text-align: right;\">\n",
              "      <th></th>\n",
              "      <th>Id</th>\n",
              "      <th>MSSubClass</th>\n",
              "      <th>MSZoning</th>\n",
              "      <th>LotFrontage</th>\n",
              "      <th>LotArea</th>\n",
              "      <th>Street</th>\n",
              "      <th>Alley</th>\n",
              "      <th>LotShape</th>\n",
              "      <th>LandContour</th>\n",
              "      <th>Utilities</th>\n",
              "      <th>LotConfig</th>\n",
              "      <th>LandSlope</th>\n",
              "      <th>Neighborhood</th>\n",
              "      <th>Condition1</th>\n",
              "      <th>Condition2</th>\n",
              "      <th>BldgType</th>\n",
              "      <th>HouseStyle</th>\n",
              "      <th>OverallQual</th>\n",
              "      <th>OverallCond</th>\n",
              "      <th>YearBuilt</th>\n",
              "      <th>YearRemodAdd</th>\n",
              "      <th>RoofStyle</th>\n",
              "      <th>RoofMatl</th>\n",
              "      <th>Exterior1st</th>\n",
              "      <th>Exterior2nd</th>\n",
              "      <th>MasVnrType</th>\n",
              "      <th>MasVnrArea</th>\n",
              "      <th>ExterQual</th>\n",
              "      <th>ExterCond</th>\n",
              "      <th>Foundation</th>\n",
              "      <th>BsmtQual</th>\n",
              "      <th>BsmtCond</th>\n",
              "      <th>BsmtExposure</th>\n",
              "      <th>BsmtFinType1</th>\n",
              "      <th>BsmtFinSF1</th>\n",
              "      <th>BsmtFinType2</th>\n",
              "      <th>BsmtFinSF2</th>\n",
              "      <th>BsmtUnfSF</th>\n",
              "      <th>TotalBsmtSF</th>\n",
              "      <th>Heating</th>\n",
              "      <th>...</th>\n",
              "      <th>CentralAir</th>\n",
              "      <th>Electrical</th>\n",
              "      <th>1stFlrSF</th>\n",
              "      <th>2ndFlrSF</th>\n",
              "      <th>LowQualFinSF</th>\n",
              "      <th>GrLivArea</th>\n",
              "      <th>BsmtFullBath</th>\n",
              "      <th>BsmtHalfBath</th>\n",
              "      <th>FullBath</th>\n",
              "      <th>HalfBath</th>\n",
              "      <th>BedroomAbvGr</th>\n",
              "      <th>KitchenAbvGr</th>\n",
              "      <th>KitchenQual</th>\n",
              "      <th>TotRmsAbvGrd</th>\n",
              "      <th>Functional</th>\n",
              "      <th>Fireplaces</th>\n",
              "      <th>FireplaceQu</th>\n",
              "      <th>GarageType</th>\n",
              "      <th>GarageYrBlt</th>\n",
              "      <th>GarageFinish</th>\n",
              "      <th>GarageCars</th>\n",
              "      <th>GarageArea</th>\n",
              "      <th>GarageQual</th>\n",
              "      <th>GarageCond</th>\n",
              "      <th>PavedDrive</th>\n",
              "      <th>WoodDeckSF</th>\n",
              "      <th>OpenPorchSF</th>\n",
              "      <th>EnclosedPorch</th>\n",
              "      <th>3SsnPorch</th>\n",
              "      <th>ScreenPorch</th>\n",
              "      <th>PoolArea</th>\n",
              "      <th>PoolQC</th>\n",
              "      <th>Fence</th>\n",
              "      <th>MiscFeature</th>\n",
              "      <th>MiscVal</th>\n",
              "      <th>MoSold</th>\n",
              "      <th>YrSold</th>\n",
              "      <th>SaleType</th>\n",
              "      <th>SaleCondition</th>\n",
              "      <th>SalePrice</th>\n",
              "    </tr>\n",
              "  </thead>\n",
              "  <tbody>\n",
              "    <tr>\n",
              "      <th>0</th>\n",
              "      <td>1</td>\n",
              "      <td>60</td>\n",
              "      <td>RL</td>\n",
              "      <td>65.0</td>\n",
              "      <td>8450</td>\n",
              "      <td>Pave</td>\n",
              "      <td>NaN</td>\n",
              "      <td>Reg</td>\n",
              "      <td>Lvl</td>\n",
              "      <td>AllPub</td>\n",
              "      <td>Inside</td>\n",
              "      <td>Gtl</td>\n",
              "      <td>CollgCr</td>\n",
              "      <td>Norm</td>\n",
              "      <td>Norm</td>\n",
              "      <td>1Fam</td>\n",
              "      <td>2Story</td>\n",
              "      <td>7</td>\n",
              "      <td>5</td>\n",
              "      <td>2003</td>\n",
              "      <td>2003</td>\n",
              "      <td>Gable</td>\n",
              "      <td>CompShg</td>\n",
              "      <td>VinylSd</td>\n",
              "      <td>VinylSd</td>\n",
              "      <td>BrkFace</td>\n",
              "      <td>196.0</td>\n",
              "      <td>Gd</td>\n",
              "      <td>TA</td>\n",
              "      <td>PConc</td>\n",
              "      <td>Gd</td>\n",
              "      <td>TA</td>\n",
              "      <td>No</td>\n",
              "      <td>GLQ</td>\n",
              "      <td>706</td>\n",
              "      <td>Unf</td>\n",
              "      <td>0</td>\n",
              "      <td>150</td>\n",
              "      <td>856</td>\n",
              "      <td>GasA</td>\n",
              "      <td>...</td>\n",
              "      <td>Y</td>\n",
              "      <td>SBrkr</td>\n",
              "      <td>856</td>\n",
              "      <td>854</td>\n",
              "      <td>0</td>\n",
              "      <td>1710</td>\n",
              "      <td>1</td>\n",
              "      <td>0</td>\n",
              "      <td>2</td>\n",
              "      <td>1</td>\n",
              "      <td>3</td>\n",
              "      <td>1</td>\n",
              "      <td>Gd</td>\n",
              "      <td>8</td>\n",
              "      <td>Typ</td>\n",
              "      <td>0</td>\n",
              "      <td>NaN</td>\n",
              "      <td>Attchd</td>\n",
              "      <td>2003.0</td>\n",
              "      <td>RFn</td>\n",
              "      <td>2</td>\n",
              "      <td>548</td>\n",
              "      <td>TA</td>\n",
              "      <td>TA</td>\n",
              "      <td>Y</td>\n",
              "      <td>0</td>\n",
              "      <td>61</td>\n",
              "      <td>0</td>\n",
              "      <td>0</td>\n",
              "      <td>0</td>\n",
              "      <td>0</td>\n",
              "      <td>NaN</td>\n",
              "      <td>NaN</td>\n",
              "      <td>NaN</td>\n",
              "      <td>0</td>\n",
              "      <td>2</td>\n",
              "      <td>2008</td>\n",
              "      <td>WD</td>\n",
              "      <td>Normal</td>\n",
              "      <td>208500</td>\n",
              "    </tr>\n",
              "    <tr>\n",
              "      <th>1</th>\n",
              "      <td>2</td>\n",
              "      <td>20</td>\n",
              "      <td>RL</td>\n",
              "      <td>80.0</td>\n",
              "      <td>9600</td>\n",
              "      <td>Pave</td>\n",
              "      <td>NaN</td>\n",
              "      <td>Reg</td>\n",
              "      <td>Lvl</td>\n",
              "      <td>AllPub</td>\n",
              "      <td>FR2</td>\n",
              "      <td>Gtl</td>\n",
              "      <td>Veenker</td>\n",
              "      <td>Feedr</td>\n",
              "      <td>Norm</td>\n",
              "      <td>1Fam</td>\n",
              "      <td>1Story</td>\n",
              "      <td>6</td>\n",
              "      <td>8</td>\n",
              "      <td>1976</td>\n",
              "      <td>1976</td>\n",
              "      <td>Gable</td>\n",
              "      <td>CompShg</td>\n",
              "      <td>MetalSd</td>\n",
              "      <td>MetalSd</td>\n",
              "      <td>None</td>\n",
              "      <td>0.0</td>\n",
              "      <td>TA</td>\n",
              "      <td>TA</td>\n",
              "      <td>CBlock</td>\n",
              "      <td>Gd</td>\n",
              "      <td>TA</td>\n",
              "      <td>Gd</td>\n",
              "      <td>ALQ</td>\n",
              "      <td>978</td>\n",
              "      <td>Unf</td>\n",
              "      <td>0</td>\n",
              "      <td>284</td>\n",
              "      <td>1262</td>\n",
              "      <td>GasA</td>\n",
              "      <td>...</td>\n",
              "      <td>Y</td>\n",
              "      <td>SBrkr</td>\n",
              "      <td>1262</td>\n",
              "      <td>0</td>\n",
              "      <td>0</td>\n",
              "      <td>1262</td>\n",
              "      <td>0</td>\n",
              "      <td>1</td>\n",
              "      <td>2</td>\n",
              "      <td>0</td>\n",
              "      <td>3</td>\n",
              "      <td>1</td>\n",
              "      <td>TA</td>\n",
              "      <td>6</td>\n",
              "      <td>Typ</td>\n",
              "      <td>1</td>\n",
              "      <td>TA</td>\n",
              "      <td>Attchd</td>\n",
              "      <td>1976.0</td>\n",
              "      <td>RFn</td>\n",
              "      <td>2</td>\n",
              "      <td>460</td>\n",
              "      <td>TA</td>\n",
              "      <td>TA</td>\n",
              "      <td>Y</td>\n",
              "      <td>298</td>\n",
              "      <td>0</td>\n",
              "      <td>0</td>\n",
              "      <td>0</td>\n",
              "      <td>0</td>\n",
              "      <td>0</td>\n",
              "      <td>NaN</td>\n",
              "      <td>NaN</td>\n",
              "      <td>NaN</td>\n",
              "      <td>0</td>\n",
              "      <td>5</td>\n",
              "      <td>2007</td>\n",
              "      <td>WD</td>\n",
              "      <td>Normal</td>\n",
              "      <td>181500</td>\n",
              "    </tr>\n",
              "    <tr>\n",
              "      <th>2</th>\n",
              "      <td>3</td>\n",
              "      <td>60</td>\n",
              "      <td>RL</td>\n",
              "      <td>68.0</td>\n",
              "      <td>11250</td>\n",
              "      <td>Pave</td>\n",
              "      <td>NaN</td>\n",
              "      <td>IR1</td>\n",
              "      <td>Lvl</td>\n",
              "      <td>AllPub</td>\n",
              "      <td>Inside</td>\n",
              "      <td>Gtl</td>\n",
              "      <td>CollgCr</td>\n",
              "      <td>Norm</td>\n",
              "      <td>Norm</td>\n",
              "      <td>1Fam</td>\n",
              "      <td>2Story</td>\n",
              "      <td>7</td>\n",
              "      <td>5</td>\n",
              "      <td>2001</td>\n",
              "      <td>2002</td>\n",
              "      <td>Gable</td>\n",
              "      <td>CompShg</td>\n",
              "      <td>VinylSd</td>\n",
              "      <td>VinylSd</td>\n",
              "      <td>BrkFace</td>\n",
              "      <td>162.0</td>\n",
              "      <td>Gd</td>\n",
              "      <td>TA</td>\n",
              "      <td>PConc</td>\n",
              "      <td>Gd</td>\n",
              "      <td>TA</td>\n",
              "      <td>Mn</td>\n",
              "      <td>GLQ</td>\n",
              "      <td>486</td>\n",
              "      <td>Unf</td>\n",
              "      <td>0</td>\n",
              "      <td>434</td>\n",
              "      <td>920</td>\n",
              "      <td>GasA</td>\n",
              "      <td>...</td>\n",
              "      <td>Y</td>\n",
              "      <td>SBrkr</td>\n",
              "      <td>920</td>\n",
              "      <td>866</td>\n",
              "      <td>0</td>\n",
              "      <td>1786</td>\n",
              "      <td>1</td>\n",
              "      <td>0</td>\n",
              "      <td>2</td>\n",
              "      <td>1</td>\n",
              "      <td>3</td>\n",
              "      <td>1</td>\n",
              "      <td>Gd</td>\n",
              "      <td>6</td>\n",
              "      <td>Typ</td>\n",
              "      <td>1</td>\n",
              "      <td>TA</td>\n",
              "      <td>Attchd</td>\n",
              "      <td>2001.0</td>\n",
              "      <td>RFn</td>\n",
              "      <td>2</td>\n",
              "      <td>608</td>\n",
              "      <td>TA</td>\n",
              "      <td>TA</td>\n",
              "      <td>Y</td>\n",
              "      <td>0</td>\n",
              "      <td>42</td>\n",
              "      <td>0</td>\n",
              "      <td>0</td>\n",
              "      <td>0</td>\n",
              "      <td>0</td>\n",
              "      <td>NaN</td>\n",
              "      <td>NaN</td>\n",
              "      <td>NaN</td>\n",
              "      <td>0</td>\n",
              "      <td>9</td>\n",
              "      <td>2008</td>\n",
              "      <td>WD</td>\n",
              "      <td>Normal</td>\n",
              "      <td>223500</td>\n",
              "    </tr>\n",
              "    <tr>\n",
              "      <th>3</th>\n",
              "      <td>4</td>\n",
              "      <td>70</td>\n",
              "      <td>RL</td>\n",
              "      <td>60.0</td>\n",
              "      <td>9550</td>\n",
              "      <td>Pave</td>\n",
              "      <td>NaN</td>\n",
              "      <td>IR1</td>\n",
              "      <td>Lvl</td>\n",
              "      <td>AllPub</td>\n",
              "      <td>Corner</td>\n",
              "      <td>Gtl</td>\n",
              "      <td>Crawfor</td>\n",
              "      <td>Norm</td>\n",
              "      <td>Norm</td>\n",
              "      <td>1Fam</td>\n",
              "      <td>2Story</td>\n",
              "      <td>7</td>\n",
              "      <td>5</td>\n",
              "      <td>1915</td>\n",
              "      <td>1970</td>\n",
              "      <td>Gable</td>\n",
              "      <td>CompShg</td>\n",
              "      <td>Wd Sdng</td>\n",
              "      <td>Wd Shng</td>\n",
              "      <td>None</td>\n",
              "      <td>0.0</td>\n",
              "      <td>TA</td>\n",
              "      <td>TA</td>\n",
              "      <td>BrkTil</td>\n",
              "      <td>TA</td>\n",
              "      <td>Gd</td>\n",
              "      <td>No</td>\n",
              "      <td>ALQ</td>\n",
              "      <td>216</td>\n",
              "      <td>Unf</td>\n",
              "      <td>0</td>\n",
              "      <td>540</td>\n",
              "      <td>756</td>\n",
              "      <td>GasA</td>\n",
              "      <td>...</td>\n",
              "      <td>Y</td>\n",
              "      <td>SBrkr</td>\n",
              "      <td>961</td>\n",
              "      <td>756</td>\n",
              "      <td>0</td>\n",
              "      <td>1717</td>\n",
              "      <td>1</td>\n",
              "      <td>0</td>\n",
              "      <td>1</td>\n",
              "      <td>0</td>\n",
              "      <td>3</td>\n",
              "      <td>1</td>\n",
              "      <td>Gd</td>\n",
              "      <td>7</td>\n",
              "      <td>Typ</td>\n",
              "      <td>1</td>\n",
              "      <td>Gd</td>\n",
              "      <td>Detchd</td>\n",
              "      <td>1998.0</td>\n",
              "      <td>Unf</td>\n",
              "      <td>3</td>\n",
              "      <td>642</td>\n",
              "      <td>TA</td>\n",
              "      <td>TA</td>\n",
              "      <td>Y</td>\n",
              "      <td>0</td>\n",
              "      <td>35</td>\n",
              "      <td>272</td>\n",
              "      <td>0</td>\n",
              "      <td>0</td>\n",
              "      <td>0</td>\n",
              "      <td>NaN</td>\n",
              "      <td>NaN</td>\n",
              "      <td>NaN</td>\n",
              "      <td>0</td>\n",
              "      <td>2</td>\n",
              "      <td>2006</td>\n",
              "      <td>WD</td>\n",
              "      <td>Abnorml</td>\n",
              "      <td>140000</td>\n",
              "    </tr>\n",
              "    <tr>\n",
              "      <th>4</th>\n",
              "      <td>5</td>\n",
              "      <td>60</td>\n",
              "      <td>RL</td>\n",
              "      <td>84.0</td>\n",
              "      <td>14260</td>\n",
              "      <td>Pave</td>\n",
              "      <td>NaN</td>\n",
              "      <td>IR1</td>\n",
              "      <td>Lvl</td>\n",
              "      <td>AllPub</td>\n",
              "      <td>FR2</td>\n",
              "      <td>Gtl</td>\n",
              "      <td>NoRidge</td>\n",
              "      <td>Norm</td>\n",
              "      <td>Norm</td>\n",
              "      <td>1Fam</td>\n",
              "      <td>2Story</td>\n",
              "      <td>8</td>\n",
              "      <td>5</td>\n",
              "      <td>2000</td>\n",
              "      <td>2000</td>\n",
              "      <td>Gable</td>\n",
              "      <td>CompShg</td>\n",
              "      <td>VinylSd</td>\n",
              "      <td>VinylSd</td>\n",
              "      <td>BrkFace</td>\n",
              "      <td>350.0</td>\n",
              "      <td>Gd</td>\n",
              "      <td>TA</td>\n",
              "      <td>PConc</td>\n",
              "      <td>Gd</td>\n",
              "      <td>TA</td>\n",
              "      <td>Av</td>\n",
              "      <td>GLQ</td>\n",
              "      <td>655</td>\n",
              "      <td>Unf</td>\n",
              "      <td>0</td>\n",
              "      <td>490</td>\n",
              "      <td>1145</td>\n",
              "      <td>GasA</td>\n",
              "      <td>...</td>\n",
              "      <td>Y</td>\n",
              "      <td>SBrkr</td>\n",
              "      <td>1145</td>\n",
              "      <td>1053</td>\n",
              "      <td>0</td>\n",
              "      <td>2198</td>\n",
              "      <td>1</td>\n",
              "      <td>0</td>\n",
              "      <td>2</td>\n",
              "      <td>1</td>\n",
              "      <td>4</td>\n",
              "      <td>1</td>\n",
              "      <td>Gd</td>\n",
              "      <td>9</td>\n",
              "      <td>Typ</td>\n",
              "      <td>1</td>\n",
              "      <td>TA</td>\n",
              "      <td>Attchd</td>\n",
              "      <td>2000.0</td>\n",
              "      <td>RFn</td>\n",
              "      <td>3</td>\n",
              "      <td>836</td>\n",
              "      <td>TA</td>\n",
              "      <td>TA</td>\n",
              "      <td>Y</td>\n",
              "      <td>192</td>\n",
              "      <td>84</td>\n",
              "      <td>0</td>\n",
              "      <td>0</td>\n",
              "      <td>0</td>\n",
              "      <td>0</td>\n",
              "      <td>NaN</td>\n",
              "      <td>NaN</td>\n",
              "      <td>NaN</td>\n",
              "      <td>0</td>\n",
              "      <td>12</td>\n",
              "      <td>2008</td>\n",
              "      <td>WD</td>\n",
              "      <td>Normal</td>\n",
              "      <td>250000</td>\n",
              "    </tr>\n",
              "  </tbody>\n",
              "</table>\n",
              "<p>5 rows × 81 columns</p>\n",
              "</div>"
            ],
            "text/plain": [
              "   Id  MSSubClass MSZoning  ...  SaleType  SaleCondition SalePrice\n",
              "0   1          60       RL  ...        WD         Normal    208500\n",
              "1   2          20       RL  ...        WD         Normal    181500\n",
              "2   3          60       RL  ...        WD         Normal    223500\n",
              "3   4          70       RL  ...        WD        Abnorml    140000\n",
              "4   5          60       RL  ...        WD         Normal    250000\n",
              "\n",
              "[5 rows x 81 columns]"
            ]
          },
          "metadata": {
            "tags": []
          },
          "execution_count": 37
        }
      ]
    },
    {
      "cell_type": "code",
      "metadata": {
        "colab": {
          "base_uri": "https://localhost:8080/",
          "height": 351
        },
        "id": "_TJvxNtWUwMJ",
        "outputId": "e4aa94eb-f7bc-46be-a9aa-0b6c2b161e70"
      },
      "source": [
        "train.plot(kind='scatter', x= 'GrLivArea',y ='SalePrice', color='red', figsize=(15,5))"
      ],
      "execution_count": 20,
      "outputs": [
        {
          "output_type": "execute_result",
          "data": {
            "text/plain": [
              "<matplotlib.axes._subplots.AxesSubplot at 0x7f15427bce48>"
            ]
          },
          "metadata": {
            "tags": []
          },
          "execution_count": 20
        },
        {
          "output_type": "display_data",
          "data": {
            "image/png": "[encoded data removed]",
            "text/plain": [
              "<Figure size 1080x360 with 1 Axes>"
            ]
          },
          "metadata": {
            "tags": [],
            "needs_background": "light"
          }
        }
      ]
    },
    {
      "cell_type": "code",
      "metadata": {
        "id": "JPBcld1PU2et"
      },
      "source": [
        "from sklearn.preprocessing import MinMaxScaler\r\n",
        "train_df = train\r\n",
        "scaler = MinMaxScaler()\r\n",
        "train_df['GrLivArea'] = scaler.fit_transform(train_df['GrLivArea'].values.reshape(-1, 1))\r\n",
        "train_df['SalePrice'] = scaler.fit_transform(train_df['SalePrice'].values.reshape(-1, 1))"
      ],
      "execution_count": 38,
      "outputs": []
    },
    {
      "cell_type": "code",
      "metadata": {
        "id": "MNv7FpezU-7g"
      },
      "source": [
        "# Declaring Variables\r\n",
        "m = tf.Variable(0.0)\r\n",
        "b = tf.Variable(0.0)\r\n",
        "# Declaring placeholders to place the training data\r\n",
        "xph = tf.placeholder(tf.float32,[batch_size])\r\n",
        "yph = tf.placeholder(tf.float32,[batch_size])\r\n",
        "#xph = tf.placeholder(tf.float32)\r\n",
        "#yph = tf.placeholder(tf.float32)\r\n",
        "# Linear Regression Equation\r\n",
        "y_model = m*xph + b\r\n",
        "error = tf.reduce_sum(tf.square(yph-y_model))\r\n",
        "# Gradient Descent Optimizer\r\n",
        "optimizer = tf.train.GradientDescentOptimizer(learning_rate=0.001)\r\n",
        "train = optimizer.minimize(error)"
      ],
      "execution_count": 40,
      "outputs": []
    },
    {
      "cell_type": "code",
      "metadata": {
        "id": "FofVVtAwWAfA"
      },
      "source": [
        "error = tf.reduce_sum(tf.square(yph-y_model))\r\n",
        "train = optimizer.minimize(error)"
      ],
      "execution_count": 41,
      "outputs": []
    },
    {
      "cell_type": "code",
      "metadata": {
        "id": "a2H1YaCLWxy6"
      },
      "source": [
        "# Important! Always initialize the variables\r\n",
        "init = tf.global_variables_initializer()\r\n",
        "batch_size = 300\r\n",
        "with tf.Session() as sess:\r\n",
        "    sess.run(init)\r\n",
        "    epochs = 1000\r\n",
        "    for i in range(epochs):\r\n",
        "        rand_ind = np.random.randint(len(train_df),size=batch_size)\r\n",
        "        feed = {xph:train_df['GrLivArea'][rand_ind].values, \r\n",
        "                yph:train_df['SalePrice'][rand_ind].values}\r\n",
        "        sess.run(train,feed_dict=feed)\r\n",
        "    model_m, model_b = sess.run([m,b])"
      ],
      "execution_count": 42,
      "outputs": []
    },
    {
      "cell_type": "code",
      "metadata": {
        "colab": {
          "base_uri": "https://localhost:8080/"
        },
        "id": "eardVp33W6x1",
        "outputId": "17c11f72-7801-4edb-b67f-c490b2cc91cd"
      },
      "source": [
        "print(\"The trained weight for m is : {m}\".format(m=model_m))\r\n",
        "print(\"The trained weight for b is : {b}\".format(b=model_b))"
      ],
      "execution_count": 43,
      "outputs": [
        {
          "output_type": "stream",
          "text": [
            "The trained weight for m is : 0.7929454445838928\n",
            "The trained weight for b is : 0.029713422060012817\n"
          ],
          "name": "stdout"
        }
      ]
    },
    {
      "cell_type": "code",
      "metadata": {
        "colab": {
          "base_uri": "https://localhost:8080/",
          "height": 296
        },
        "id": "i5AGmexGY-67",
        "outputId": "2eee0f7b-f190-49c2-d50e-da0b17c2a72c"
      },
      "source": [
        "y_hat = train_df['GrLivArea'] * model_m + model_b\r\n",
        "train_df.plot(kind='scatter',x='GrLivArea',y='SalePrice')\r\n",
        "plt.plot(train_df['GrLivArea'],y_hat,'r')"
      ],
      "execution_count": 46,
      "outputs": [
        {
          "output_type": "execute_result",
          "data": {
            "text/plain": [
              "[<matplotlib.lines.Line2D at 0x7f152a0c3400>]"
            ]
          },
          "metadata": {
            "tags": []
          },
          "execution_count": 46
        },
        {
          "output_type": "display_data",
          "data": {
            "image/png": "[encoded data removed]",
            "text/plain": [
              "<Figure size 432x288 with 1 Axes>"
            ]
          },
          "metadata": {
            "tags": [],
            "needs_background": "light"
          }
        }
      ]
    },
    {
      "cell_type": "code",
      "metadata": {
        "colab": {
          "base_uri": "https://localhost:8080/"
        },
        "id": "Ixb7WeAUZDHz",
        "outputId": "3341f7fe-0e8d-48c5-d057-e4806b3a89fa"
      },
      "source": [
        "from sklearn.metrics import mean_squared_error\r\n",
        "rmse = mean_squared_error(train_df['SalePrice'], y_hat) ** 0.5\r\n",
        "print(\"Root Mean Sqaured Error:\",rmse )"
      ],
      "execution_count": 47,
      "outputs": [
        {
          "output_type": "stream",
          "text": [
            "Root Mean Sqaured Error: 0.07789082304787956\n"
          ],
          "name": "stdout"
        }
      ]
    },
    {
      "cell_type": "code",
      "metadata": {
        "id": "MneNKh59Zf09"
      },
      "source": [
        "url2 = \"https://raw.githubusercontent.com/Dn-Analytix/Tensorflow-Basics/main/adult.data\"\r\n",
        "census = pd.read_csv(url2, header=None)\r\n",
        "census.columns = ['age', 'workclass','fnlwgt', 'education', 'education_num', 'marital_status',\r\n",
        "       'occupation', 'relationship', 'race', 'gender', 'capital_gain',\r\n",
        "       'capital_loss', 'hours_per_week', 'native_country', 'income_bracket']"
      ],
      "execution_count": 48,
      "outputs": []
    },
    {
      "cell_type": "code",
      "metadata": {
        "colab": {
          "base_uri": "https://localhost:8080/",
          "height": 494
        },
        "id": "IfO6YejKb4HL",
        "outputId": "c495c3e6-8049-4d56-fcef-24e40c39273d"
      },
      "source": [
        "census.head(10)"
      ],
      "execution_count": 49,
      "outputs": [
        {
          "output_type": "execute_result",
          "data": {
            "text/html": [
              "<div>\n",
              "<style scoped>\n",
              "    .dataframe tbody tr th:only-of-type {\n",
              "        vertical-align: middle;\n",
              "    }\n",
              "\n",
              "    .dataframe tbody tr th {\n",
              "        vertical-align: top;\n",
              "    }\n",
              "\n",
              "    .dataframe thead th {\n",
              "        text-align: right;\n",
              "    }\n",
              "</style>\n",
              "<table border=\"1\" class=\"dataframe\">\n",
              "  <thead>\n",
              "    <tr style=\"text-align: right;\">\n",
              "      <th></th>\n",
              "      <th>age</th>\n",
              "      <th>workclass</th>\n",
              "      <th>fnlwgt</th>\n",
              "      <th>education</th>\n",
              "      <th>education_num</th>\n",
              "      <th>marital_status</th>\n",
              "      <th>occupation</th>\n",
              "      <th>relationship</th>\n",
              "      <th>race</th>\n",
              "      <th>gender</th>\n",
              "      <th>capital_gain</th>\n",
              "      <th>capital_loss</th>\n",
              "      <th>hours_per_week</th>\n",
              "      <th>native_country</th>\n",
              "      <th>income_bracket</th>\n",
              "    </tr>\n",
              "  </thead>\n",
              "  <tbody>\n",
              "    <tr>\n",
              "      <th>0</th>\n",
              "      <td>39</td>\n",
              "      <td>State-gov</td>\n",
              "      <td>77516</td>\n",
              "      <td>Bachelors</td>\n",
              "      <td>13</td>\n",
              "      <td>Never-married</td>\n",
              "      <td>Adm-clerical</td>\n",
              "      <td>Not-in-family</td>\n",
              "      <td>White</td>\n",
              "      <td>Male</td>\n",
              "      <td>2174</td>\n",
              "      <td>0</td>\n",
              "      <td>40</td>\n",
              "      <td>United-States</td>\n",
              "      <td>&lt;=50K</td>\n",
              "    </tr>\n",
              "    <tr>\n",
              "      <th>1</th>\n",
              "      <td>50</td>\n",
              "      <td>Self-emp-not-inc</td>\n",
              "      <td>83311</td>\n",
              "      <td>Bachelors</td>\n",
              "      <td>13</td>\n",
              "      <td>Married-civ-spouse</td>\n",
              "      <td>Exec-managerial</td>\n",
              "      <td>Husband</td>\n",
              "      <td>White</td>\n",
              "      <td>Male</td>\n",
              "      <td>0</td>\n",
              "      <td>0</td>\n",
              "      <td>13</td>\n",
              "      <td>United-States</td>\n",
              "      <td>&lt;=50K</td>\n",
              "    </tr>\n",
              "    <tr>\n",
              "      <th>2</th>\n",
              "      <td>38</td>\n",
              "      <td>Private</td>\n",
              "      <td>215646</td>\n",
              "      <td>HS-grad</td>\n",
              "      <td>9</td>\n",
              "      <td>Divorced</td>\n",
              "      <td>Handlers-cleaners</td>\n",
              "      <td>Not-in-family</td>\n",
              "      <td>White</td>\n",
              "      <td>Male</td>\n",
              "      <td>0</td>\n",
              "      <td>0</td>\n",
              "      <td>40</td>\n",
              "      <td>United-States</td>\n",
              "      <td>&lt;=50K</td>\n",
              "    </tr>\n",
              "    <tr>\n",
              "      <th>3</th>\n",
              "      <td>53</td>\n",
              "      <td>Private</td>\n",
              "      <td>234721</td>\n",
              "      <td>11th</td>\n",
              "      <td>7</td>\n",
              "      <td>Married-civ-spouse</td>\n",
              "      <td>Handlers-cleaners</td>\n",
              "      <td>Husband</td>\n",
              "      <td>Black</td>\n",
              "      <td>Male</td>\n",
              "      <td>0</td>\n",
              "      <td>0</td>\n",
              "      <td>40</td>\n",
              "      <td>United-States</td>\n",
              "      <td>&lt;=50K</td>\n",
              "    </tr>\n",
              "    <tr>\n",
              "      <th>4</th>\n",
              "      <td>28</td>\n",
              "      <td>Private</td>\n",
              "      <td>338409</td>\n",
              "      <td>Bachelors</td>\n",
              "      <td>13</td>\n",
              "      <td>Married-civ-spouse</td>\n",
              "      <td>Prof-specialty</td>\n",
              "      <td>Wife</td>\n",
              "      <td>Black</td>\n",
              "      <td>Female</td>\n",
              "      <td>0</td>\n",
              "      <td>0</td>\n",
              "      <td>40</td>\n",
              "      <td>Cuba</td>\n",
              "      <td>&lt;=50K</td>\n",
              "    </tr>\n",
              "    <tr>\n",
              "      <th>5</th>\n",
              "      <td>37</td>\n",
              "      <td>Private</td>\n",
              "      <td>284582</td>\n",
              "      <td>Masters</td>\n",
              "      <td>14</td>\n",
              "      <td>Married-civ-spouse</td>\n",
              "      <td>Exec-managerial</td>\n",
              "      <td>Wife</td>\n",
              "      <td>White</td>\n",
              "      <td>Female</td>\n",
              "      <td>0</td>\n",
              "      <td>0</td>\n",
              "      <td>40</td>\n",
              "      <td>United-States</td>\n",
              "      <td>&lt;=50K</td>\n",
              "    </tr>\n",
              "    <tr>\n",
              "      <th>6</th>\n",
              "      <td>49</td>\n",
              "      <td>Private</td>\n",
              "      <td>160187</td>\n",
              "      <td>9th</td>\n",
              "      <td>5</td>\n",
              "      <td>Married-spouse-absent</td>\n",
              "      <td>Other-service</td>\n",
              "      <td>Not-in-family</td>\n",
              "      <td>Black</td>\n",
              "      <td>Female</td>\n",
              "      <td>0</td>\n",
              "      <td>0</td>\n",
              "      <td>16</td>\n",
              "      <td>Jamaica</td>\n",
              "      <td>&lt;=50K</td>\n",
              "    </tr>\n",
              "    <tr>\n",
              "      <th>7</th>\n",
              "      <td>52</td>\n",
              "      <td>Self-emp-not-inc</td>\n",
              "      <td>209642</td>\n",
              "      <td>HS-grad</td>\n",
              "      <td>9</td>\n",
              "      <td>Married-civ-spouse</td>\n",
              "      <td>Exec-managerial</td>\n",
              "      <td>Husband</td>\n",
              "      <td>White</td>\n",
              "      <td>Male</td>\n",
              "      <td>0</td>\n",
              "      <td>0</td>\n",
              "      <td>45</td>\n",
              "      <td>United-States</td>\n",
              "      <td>&gt;50K</td>\n",
              "    </tr>\n",
              "    <tr>\n",
              "      <th>8</th>\n",
              "      <td>31</td>\n",
              "      <td>Private</td>\n",
              "      <td>45781</td>\n",
              "      <td>Masters</td>\n",
              "      <td>14</td>\n",
              "      <td>Never-married</td>\n",
              "      <td>Prof-specialty</td>\n",
              "      <td>Not-in-family</td>\n",
              "      <td>White</td>\n",
              "      <td>Female</td>\n",
              "      <td>14084</td>\n",
              "      <td>0</td>\n",
              "      <td>50</td>\n",
              "      <td>United-States</td>\n",
              "      <td>&gt;50K</td>\n",
              "    </tr>\n",
              "    <tr>\n",
              "      <th>9</th>\n",
              "      <td>42</td>\n",
              "      <td>Private</td>\n",
              "      <td>159449</td>\n",
              "      <td>Bachelors</td>\n",
              "      <td>13</td>\n",
              "      <td>Married-civ-spouse</td>\n",
              "      <td>Exec-managerial</td>\n",
              "      <td>Husband</td>\n",
              "      <td>White</td>\n",
              "      <td>Male</td>\n",
              "      <td>5178</td>\n",
              "      <td>0</td>\n",
              "      <td>40</td>\n",
              "      <td>United-States</td>\n",
              "      <td>&gt;50K</td>\n",
              "    </tr>\n",
              "  </tbody>\n",
              "</table>\n",
              "</div>"
            ],
            "text/plain": [
              "   age          workclass  ...  native_country income_bracket\n",
              "0   39          State-gov  ...   United-States          <=50K\n",
              "1   50   Self-emp-not-inc  ...   United-States          <=50K\n",
              "2   38            Private  ...   United-States          <=50K\n",
              "3   53            Private  ...   United-States          <=50K\n",
              "4   28            Private  ...            Cuba          <=50K\n",
              "5   37            Private  ...   United-States          <=50K\n",
              "6   49            Private  ...         Jamaica          <=50K\n",
              "7   52   Self-emp-not-inc  ...   United-States           >50K\n",
              "8   31            Private  ...   United-States           >50K\n",
              "9   42            Private  ...   United-States           >50K\n",
              "\n",
              "[10 rows x 15 columns]"
            ]
          },
          "metadata": {
            "tags": []
          },
          "execution_count": 49
        }
      ]
    },
    {
      "cell_type": "code",
      "metadata": {
        "colab": {
          "base_uri": "https://localhost:8080/"
        },
        "id": "YmsgdAlDb-je",
        "outputId": "fadd7ae0-be5d-4074-f253-282da91c9cf7"
      },
      "source": [
        "def label_fix(label):\r\n",
        "    if label==' <=50K':\r\n",
        "        return 0\r\n",
        "    else:\r\n",
        "        return 1\r\n",
        "census['income_bracket'] = census['income_bracket'].apply(label_fix)\r\n",
        "census['income_bracket'].unique()"
      ],
      "execution_count": 50,
      "outputs": [
        {
          "output_type": "execute_result",
          "data": {
            "text/plain": [
              "array([0, 1])"
            ]
          },
          "metadata": {
            "tags": []
          },
          "execution_count": 50
        }
      ]
    },
    {
      "cell_type": "code",
      "metadata": {
        "id": "s_NruCvScJYa"
      },
      "source": [
        "from sklearn.model_selection import train_test_split\r\n",
        "x_data = census.drop('income_bracket',axis=1)\r\n",
        "y_labels = census['income_bracket']\r\n",
        "X_train, X_test, y_train, y_test = train_test_split(x_data,y_labels,test_size=0.3,random_state=101)"
      ],
      "execution_count": 51,
      "outputs": []
    },
    {
      "cell_type": "code",
      "metadata": {
        "id": "h_iboTolcQAt"
      },
      "source": [
        "gender = tf.feature_column.categorical_column_with_vocabulary_list(\"gender\", [\"Female\", \"Male\"])"
      ],
      "execution_count": 52,
      "outputs": []
    },
    {
      "cell_type": "code",
      "metadata": {
        "id": "a0Ef51EXccPW"
      },
      "source": [
        "occupation = tf.feature_column.categorical_column_with_hash_bucket(\"occupation\", hash_bucket_size=1000)\r\n",
        "marital_status = tf.feature_column.categorical_column_with_hash_bucket(\"marital_status\", hash_bucket_size=1000)\r\n",
        "relationship = tf.feature_column.categorical_column_with_hash_bucket(\"relationship\", hash_bucket_size=1000)\r\n",
        "education = tf.feature_column.categorical_column_with_hash_bucket(\"education\", hash_bucket_size=1000)\r\n",
        "workclass = tf.feature_column.categorical_column_with_hash_bucket(\"workclass\", hash_bucket_size=1000)\r\n",
        "native_country = tf.feature_column.categorical_column_with_hash_bucket(\"native_country\", hash_bucket_size=1000)"
      ],
      "execution_count": 53,
      "outputs": []
    },
    {
      "cell_type": "code",
      "metadata": {
        "id": "_a-uI6rtchmt"
      },
      "source": [
        "age = tf.feature_column.numeric_column(\"age\")\r\n",
        "education_num = tf.feature_column.numeric_column(\"education_num\")\r\n",
        "capital_gain = tf.feature_column.numeric_column(\"capital_gain\")\r\n",
        "capital_loss = tf.feature_column.numeric_column(\"capital_loss\")\r\n",
        "hours_per_week = tf.feature_column.numeric_column(\"hours_per_week\")"
      ],
      "execution_count": 54,
      "outputs": []
    },
    {
      "cell_type": "code",
      "metadata": {
        "id": "CNZKDoiEcp7s"
      },
      "source": [
        "feat_cols = [gender,occupation,marital_status,relationship,education,workclass,native_country, age,education_num,capital_gain,capital_loss,hours_per_week]\r\n",
        "input_func=tf.estimator.inputs.pandas_input_fn(x=X_train,y=y_train,batch_size=100,num_epochs=None,shuffle=True)"
      ],
      "execution_count": 55,
      "outputs": []
    },
    {
      "cell_type": "code",
      "metadata": {
        "colab": {
          "base_uri": "https://localhost:8080/"
        },
        "id": "IUodOqkicy7U",
        "outputId": "d49a9cae-f055-4ac6-dd01-6b515856a9cd"
      },
      "source": [
        "input_func=tf.estimator.inputs.pandas_input_fn(x=X_train,y=y_train,batch_size=100,num_epochs=None,shuffle=True)\r\n",
        "model = tf.estimator.LinearClassifier(feature_columns=feat_cols)\r\n",
        "model.train(input_fn=input_func,steps=5000)"
      ],
      "execution_count": 56,
      "outputs": [
        {
          "output_type": "stream",
          "text": [
            "INFO:tensorflow:Using default config.\n",
            "WARNING:tensorflow:Using temporary folder as model directory: /tmp/tmpd156c0r3\n",
            "INFO:tensorflow:Using config: {'_model_dir': '/tmp/tmpd156c0r3', '_tf_random_seed': 1, '_save_summary_steps': 100, '_save_checkpoints_secs': 600, '_save_checkpoints_steps': None, '_session_config': None, '_keep_checkpoint_max': 5, '_keep_checkpoint_every_n_hours': 10000, '_log_step_count_steps': 100}\n",
            "INFO:tensorflow:Create CheckpointSaverHook.\n",
            "INFO:tensorflow:Saving checkpoints for 1 into /tmp/tmpd156c0r3/model.ckpt.\n",
            "INFO:tensorflow:loss = 69.31474, step = 1\n",
            "INFO:tensorflow:global_step/sec: 215.09\n",
            "INFO:tensorflow:loss = 122.05571, step = 101 (0.466 sec)\n",
            "INFO:tensorflow:global_step/sec: 216.926\n",
            "INFO:tensorflow:loss = 499.18964, step = 201 (0.461 sec)\n",
            "INFO:tensorflow:global_step/sec: 218.889\n",
            "INFO:tensorflow:loss = 249.304, step = 301 (0.457 sec)\n",
            "INFO:tensorflow:global_step/sec: 220.995\n",
            "INFO:tensorflow:loss = 67.452965, step = 401 (0.452 sec)\n",
            "INFO:tensorflow:global_step/sec: 220.402\n",
            "INFO:tensorflow:loss = 340.3651, step = 501 (0.453 sec)\n",
            "INFO:tensorflow:global_step/sec: 225.881\n",
            "INFO:tensorflow:loss = 382.68958, step = 601 (0.443 sec)\n",
            "INFO:tensorflow:global_step/sec: 210.856\n",
            "INFO:tensorflow:loss = 32.11917, step = 701 (0.474 sec)\n",
            "INFO:tensorflow:global_step/sec: 225.509\n",
            "INFO:tensorflow:loss = 16.733276, step = 801 (0.444 sec)\n",
            "INFO:tensorflow:global_step/sec: 209.715\n",
            "INFO:tensorflow:loss = 80.84349, step = 901 (0.477 sec)\n",
            "INFO:tensorflow:global_step/sec: 218.53\n",
            "INFO:tensorflow:loss = 102.63091, step = 1001 (0.457 sec)\n",
            "INFO:tensorflow:global_step/sec: 213.237\n",
            "INFO:tensorflow:loss = 46.285316, step = 1101 (0.469 sec)\n",
            "INFO:tensorflow:global_step/sec: 234.234\n",
            "INFO:tensorflow:loss = 65.701065, step = 1201 (0.427 sec)\n",
            "INFO:tensorflow:global_step/sec: 225.088\n",
            "INFO:tensorflow:loss = 280.69006, step = 1301 (0.444 sec)\n",
            "INFO:tensorflow:global_step/sec: 213.764\n",
            "INFO:tensorflow:loss = 218.5998, step = 1401 (0.468 sec)\n",
            "INFO:tensorflow:global_step/sec: 218.148\n",
            "INFO:tensorflow:loss = 36.16037, step = 1501 (0.458 sec)\n",
            "INFO:tensorflow:global_step/sec: 225.393\n",
            "INFO:tensorflow:loss = 536.303, step = 1601 (0.444 sec)\n",
            "INFO:tensorflow:global_step/sec: 228.04\n",
            "INFO:tensorflow:loss = 276.28485, step = 1701 (0.438 sec)\n",
            "INFO:tensorflow:global_step/sec: 213.848\n",
            "INFO:tensorflow:loss = 55.18122, step = 1801 (0.468 sec)\n",
            "INFO:tensorflow:global_step/sec: 222.346\n",
            "INFO:tensorflow:loss = 59.317986, step = 1901 (0.452 sec)\n",
            "INFO:tensorflow:global_step/sec: 218.269\n",
            "INFO:tensorflow:loss = 98.07399, step = 2001 (0.456 sec)\n",
            "INFO:tensorflow:global_step/sec: 233.91\n",
            "INFO:tensorflow:loss = 200.93222, step = 2101 (0.427 sec)\n",
            "INFO:tensorflow:global_step/sec: 229.257\n",
            "INFO:tensorflow:loss = 384.59344, step = 2201 (0.436 sec)\n",
            "INFO:tensorflow:global_step/sec: 228.413\n",
            "INFO:tensorflow:loss = 304.95712, step = 2301 (0.438 sec)\n",
            "INFO:tensorflow:global_step/sec: 225.893\n",
            "INFO:tensorflow:loss = 37.67077, step = 2401 (0.445 sec)\n",
            "INFO:tensorflow:global_step/sec: 224.123\n",
            "INFO:tensorflow:loss = 149.15448, step = 2501 (0.446 sec)\n",
            "INFO:tensorflow:global_step/sec: 230.609\n",
            "INFO:tensorflow:loss = 38.67223, step = 2601 (0.431 sec)\n",
            "INFO:tensorflow:global_step/sec: 224.442\n",
            "INFO:tensorflow:loss = 34.73325, step = 2701 (0.446 sec)\n",
            "INFO:tensorflow:global_step/sec: 220.06\n",
            "INFO:tensorflow:loss = 37.307632, step = 2801 (0.458 sec)\n",
            "INFO:tensorflow:global_step/sec: 217.861\n",
            "INFO:tensorflow:loss = 39.839348, step = 2901 (0.457 sec)\n",
            "INFO:tensorflow:global_step/sec: 213.485\n",
            "INFO:tensorflow:loss = 35.68464, step = 3001 (0.466 sec)\n",
            "INFO:tensorflow:global_step/sec: 216.872\n",
            "INFO:tensorflow:loss = 114.312386, step = 3101 (0.462 sec)\n",
            "INFO:tensorflow:global_step/sec: 219.751\n",
            "INFO:tensorflow:loss = 20.622923, step = 3201 (0.459 sec)\n",
            "INFO:tensorflow:global_step/sec: 220.121\n",
            "INFO:tensorflow:loss = 41.967384, step = 3301 (0.452 sec)\n",
            "INFO:tensorflow:global_step/sec: 223.263\n",
            "INFO:tensorflow:loss = 39.95468, step = 3401 (0.454 sec)\n",
            "INFO:tensorflow:global_step/sec: 224.552\n",
            "INFO:tensorflow:loss = 31.751007, step = 3501 (0.437 sec)\n",
            "INFO:tensorflow:global_step/sec: 215.043\n",
            "INFO:tensorflow:loss = 40.44312, step = 3601 (0.465 sec)\n",
            "INFO:tensorflow:global_step/sec: 224.986\n",
            "INFO:tensorflow:loss = 30.891026, step = 3701 (0.445 sec)\n",
            "INFO:tensorflow:global_step/sec: 219.954\n",
            "INFO:tensorflow:loss = 67.87688, step = 3801 (0.455 sec)\n",
            "INFO:tensorflow:global_step/sec: 219.604\n",
            "INFO:tensorflow:loss = 61.47585, step = 3901 (0.460 sec)\n",
            "INFO:tensorflow:global_step/sec: 222.434\n",
            "INFO:tensorflow:loss = 120.28603, step = 4001 (0.445 sec)\n",
            "INFO:tensorflow:global_step/sec: 226.167\n",
            "INFO:tensorflow:loss = 91.11243, step = 4101 (0.442 sec)\n",
            "INFO:tensorflow:global_step/sec: 225.852\n",
            "INFO:tensorflow:loss = 45.800247, step = 4201 (0.447 sec)\n",
            "INFO:tensorflow:global_step/sec: 224.784\n",
            "INFO:tensorflow:loss = 45.12767, step = 4301 (0.441 sec)\n",
            "INFO:tensorflow:global_step/sec: 219.65\n",
            "INFO:tensorflow:loss = 37.76075, step = 4401 (0.460 sec)\n",
            "INFO:tensorflow:global_step/sec: 214.684\n",
            "INFO:tensorflow:loss = 24.763245, step = 4501 (0.461 sec)\n",
            "INFO:tensorflow:global_step/sec: 231.784\n",
            "INFO:tensorflow:loss = 131.4342, step = 4601 (0.432 sec)\n",
            "INFO:tensorflow:global_step/sec: 219.886\n",
            "INFO:tensorflow:loss = 38.13336, step = 4701 (0.455 sec)\n",
            "INFO:tensorflow:global_step/sec: 230.657\n",
            "INFO:tensorflow:loss = 33.724815, step = 4801 (0.437 sec)\n",
            "INFO:tensorflow:global_step/sec: 216.094\n",
            "INFO:tensorflow:loss = 70.94693, step = 4901 (0.462 sec)\n",
            "INFO:tensorflow:Saving checkpoints for 5000 into /tmp/tmpd156c0r3/model.ckpt.\n",
            "INFO:tensorflow:Loss for final step: 75.87283.\n"
          ],
          "name": "stdout"
        },
        {
          "output_type": "execute_result",
          "data": {
            "text/plain": [
              "<tensorflow.python.estimator.canned.linear.LinearClassifier at 0x7f1529abbe48>"
            ]
          },
          "metadata": {
            "tags": []
          },
          "execution_count": 56
        }
      ]
    },
    {
      "cell_type": "code",
      "metadata": {
        "colab": {
          "base_uri": "https://localhost:8080/"
        },
        "id": "ebv1eqljc5SB",
        "outputId": "6bcafa3f-2b3d-4276-f0e4-8394eb009b6f"
      },
      "source": [
        "pred_fn = tf.estimator.inputs.pandas_input_fn(x=X_test,batch_size=len(X_test),shuffle=False)\r\n",
        "predictions = list(model.predict(input_fn=pred_fn))\r\n",
        "final_preds = []\r\n",
        "for pred in predictions:\r\n",
        "    final_preds.append(pred['class_ids'][0])"
      ],
      "execution_count": 57,
      "outputs": [
        {
          "output_type": "stream",
          "text": [
            "INFO:tensorflow:Restoring parameters from /tmp/tmpd156c0r3/model.ckpt-5000\n"
          ],
          "name": "stdout"
        }
      ]
    },
    {
      "cell_type": "code",
      "metadata": {
        "colab": {
          "base_uri": "https://localhost:8080/"
        },
        "id": "LrA07htBdGE-",
        "outputId": "8798f767-d9f3-4075-8848-32ef9f7beeed"
      },
      "source": [
        "from sklearn.metrics import classification_report\r\n",
        "print(classification_report(y_test,final_preds))"
      ],
      "execution_count": 58,
      "outputs": [
        {
          "output_type": "stream",
          "text": [
            "              precision    recall  f1-score   support\n",
            "\n",
            "           0       0.83      0.94      0.88      7436\n",
            "           1       0.66      0.37      0.48      2333\n",
            "\n",
            "    accuracy                           0.80      9769\n",
            "   macro avg       0.74      0.66      0.68      9769\n",
            "weighted avg       0.79      0.80      0.78      9769\n",
            "\n"
          ],
          "name": "stdout"
        }
      ]
    },
    {
      "cell_type": "code",
      "metadata": {
        "colab": {
          "base_uri": "https://localhost:8080/",
          "height": 312
        },
        "id": "1CiXULyXdJ0j",
        "outputId": "12dc8d3d-9139-4b44-a409-367a91badd49"
      },
      "source": [
        "from sklearn.metrics import roc_curve, auc\r\n",
        "fpr, tpr, thresholds = roc_curve(y_test,final_preds)\r\n",
        "roc_auc = auc(fpr, tpr)\r\n",
        "print(\"ROC AUC Score: {}\".format(roc_auc))\r\n",
        "plt.figure()\r\n",
        "plt.plot(fpr, tpr, color='green', lw=1, label='ROC curve (area = %0.2f)' % roc_auc)\r\n",
        "plt.plot([0, 1], [0, 1], color='navy', linestyle='--')\r\n",
        "plt.xlim([0.0, 1.0])\r\n",
        "plt.ylim([0.0, 1.05])\r\n",
        "plt.xlabel('False Positive Rate')\r\n",
        "plt.ylabel('True Positive Rate')\r\n",
        "plt.title('Receiver operating characteristic')\r\n",
        "plt.legend(loc=\"lower right\")\r\n",
        "plt.show()"
      ],
      "execution_count": 59,
      "outputs": [
        {
          "output_type": "stream",
          "text": [
            "ROC AUC Score: 0.6569744344481394\n"
          ],
          "name": "stdout"
        },
        {
          "output_type": "display_data",
          "data": {
            "image/png": "[encoded data removed]",
            "text/plain": [
              "<Figure size 432x288 with 1 Axes>"
            ]
          },
          "metadata": {
            "tags": [],
            "needs_background": "light"
          }
        }
      ]
    },
    {
      "cell_type": "code",
      "metadata": {
        "id": "wECefPk6dR6m"
      },
      "source": [
        ""
      ],
      "execution_count": null,
      "outputs": []
    }
  ]
}